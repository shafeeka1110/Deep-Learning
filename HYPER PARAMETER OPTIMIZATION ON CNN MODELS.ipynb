{
 "cells": [
  {
   "cell_type": "code",
   "execution_count": 1,
   "id": "f3bb0415-5dff-435c-a0bb-a10e84547145",
   "metadata": {},
   "outputs": [],
   "source": [
    "#HYPER PARAMETER OPTIMIZATION ON CNN MODELS "
   ]
  },
  {
   "cell_type": "code",
   "execution_count": 6,
   "id": "30c94ae2-0af4-4f77-8813-456f7ad1ecbd",
   "metadata": {},
   "outputs": [],
   "source": [
    "#pip install scikit-learn"
   ]
  },
  {
   "cell_type": "code",
   "execution_count": null,
   "id": "b6c5b988-08f4-4578-9a09-810c8da2620e",
   "metadata": {},
   "outputs": [],
   "source": []
  },
  {
   "cell_type": "code",
   "execution_count": 14,
   "id": "3df9e08e-1f3d-409f-a151-3089930e887b",
   "metadata": {},
   "outputs": [
    {
     "name": "stdout",
     "output_type": "stream",
     "text": [
      "Requirement already satisfied: keras-tuner in c:\\users\\mohammed arif\\anaconda3\\lib\\site-packages (1.4.7)\n",
      "Requirement already satisfied: keras in c:\\users\\mohammed arif\\anaconda3\\lib\\site-packages (from keras-tuner) (3.6.0)\n",
      "Requirement already satisfied: packaging in c:\\users\\mohammed arif\\anaconda3\\lib\\site-packages (from keras-tuner) (23.2)\n",
      "Requirement already satisfied: requests in c:\\users\\mohammed arif\\anaconda3\\lib\\site-packages (from keras-tuner) (2.32.2)\n",
      "Requirement already satisfied: kt-legacy in c:\\users\\mohammed arif\\anaconda3\\lib\\site-packages (from keras-tuner) (1.0.5)\n",
      "Requirement already satisfied: absl-py in c:\\users\\mohammed arif\\anaconda3\\lib\\site-packages (from keras->keras-tuner) (2.1.0)\n",
      "Requirement already satisfied: numpy in c:\\users\\mohammed arif\\anaconda3\\lib\\site-packages (from keras->keras-tuner) (1.26.4)\n",
      "Requirement already satisfied: rich in c:\\users\\mohammed arif\\anaconda3\\lib\\site-packages (from keras->keras-tuner) (13.3.5)\n",
      "Requirement already satisfied: namex in c:\\users\\mohammed arif\\anaconda3\\lib\\site-packages (from keras->keras-tuner) (0.0.8)\n",
      "Requirement already satisfied: h5py in c:\\users\\mohammed arif\\anaconda3\\lib\\site-packages (from keras->keras-tuner) (3.11.0)\n",
      "Requirement already satisfied: optree in c:\\users\\mohammed arif\\anaconda3\\lib\\site-packages (from keras->keras-tuner) (0.13.0)\n",
      "Requirement already satisfied: ml-dtypes in c:\\users\\mohammed arif\\anaconda3\\lib\\site-packages (from keras->keras-tuner) (0.4.1)\n",
      "Requirement already satisfied: charset-normalizer<4,>=2 in c:\\users\\mohammed arif\\anaconda3\\lib\\site-packages (from requests->keras-tuner) (2.0.4)\n",
      "Requirement already satisfied: idna<4,>=2.5 in c:\\users\\mohammed arif\\anaconda3\\lib\\site-packages (from requests->keras-tuner) (3.7)\n",
      "Requirement already satisfied: urllib3<3,>=1.21.1 in c:\\users\\mohammed arif\\anaconda3\\lib\\site-packages (from requests->keras-tuner) (2.2.2)\n",
      "Requirement already satisfied: certifi>=2017.4.17 in c:\\users\\mohammed arif\\anaconda3\\lib\\site-packages (from requests->keras-tuner) (2024.8.30)\n",
      "Requirement already satisfied: typing-extensions>=4.5.0 in c:\\users\\mohammed arif\\anaconda3\\lib\\site-packages (from optree->keras->keras-tuner) (4.11.0)\n",
      "Requirement already satisfied: markdown-it-py<3.0.0,>=2.2.0 in c:\\users\\mohammed arif\\anaconda3\\lib\\site-packages (from rich->keras->keras-tuner) (2.2.0)\n",
      "Requirement already satisfied: pygments<3.0.0,>=2.13.0 in c:\\users\\mohammed arif\\anaconda3\\lib\\site-packages (from rich->keras->keras-tuner) (2.15.1)\n",
      "Requirement already satisfied: mdurl~=0.1 in c:\\users\\mohammed arif\\anaconda3\\lib\\site-packages (from markdown-it-py<3.0.0,>=2.2.0->rich->keras->keras-tuner) (0.1.0)\n",
      "Note: you may need to restart the kernel to use updated packages.\n"
     ]
    }
   ],
   "source": [
    "pip install keras-tuner"
   ]
  },
  {
   "cell_type": "code",
   "execution_count": 8,
   "id": "46bfd02c-7aaa-421c-9ccb-6d9fa32b8605",
   "metadata": {},
   "outputs": [],
   "source": [
    "import numpy as np\n",
    "from tensorflow.keras.datasets import fashion_mnist\n",
    "from tensorflow.keras.models import Sequential\n",
    "from tensorflow.keras.layers import Conv2D, MaxPooling2D, Flatten, Dense, Dropout\n",
    "from tensorflow.keras.optimizers import Adam, SGD\n",
    "from sklearn.model_selection import train_test_split"
   ]
  },
  {
   "cell_type": "code",
   "execution_count": 10,
   "id": "cb32626a-b70b-4c7b-964b-72c647f3e3a5",
   "metadata": {},
   "outputs": [
    {
     "name": "stdout",
     "output_type": "stream",
     "text": [
      "Downloading data from https://storage.googleapis.com/tensorflow/tf-keras-datasets/train-labels-idx1-ubyte.gz\n",
      "\u001b[1m29515/29515\u001b[0m \u001b[32m━━━━━━━━━━━━━━━━━━━━\u001b[0m\u001b[37m\u001b[0m \u001b[1m0s\u001b[0m 3us/step\n",
      "Downloading data from https://storage.googleapis.com/tensorflow/tf-keras-datasets/train-images-idx3-ubyte.gz\n",
      "\u001b[1m26421880/26421880\u001b[0m \u001b[32m━━━━━━━━━━━━━━━━━━━━\u001b[0m\u001b[37m\u001b[0m \u001b[1m22s\u001b[0m 1us/step\n",
      "Downloading data from https://storage.googleapis.com/tensorflow/tf-keras-datasets/t10k-labels-idx1-ubyte.gz\n",
      "\u001b[1m5148/5148\u001b[0m \u001b[32m━━━━━━━━━━━━━━━━━━━━\u001b[0m\u001b[37m\u001b[0m \u001b[1m0s\u001b[0m 0s/step\n",
      "Downloading data from https://storage.googleapis.com/tensorflow/tf-keras-datasets/t10k-images-idx3-ubyte.gz\n",
      "\u001b[1m4422102/4422102\u001b[0m \u001b[32m━━━━━━━━━━━━━━━━━━━━\u001b[0m\u001b[37m\u001b[0m \u001b[1m7s\u001b[0m 2us/step\n"
     ]
    }
   ],
   "source": [
    "(X_train, y_train), (X_test, y_test) = fashion_mnist.load_data()"
   ]
  },
  {
   "cell_type": "code",
   "execution_count": 12,
   "id": "8fad092a-b301-4dd4-acfb-1ee6c906175f",
   "metadata": {},
   "outputs": [],
   "source": [
    "X_train = X_train.reshape(X_train.shape[0], 28, 28, 1).astype('float32') / 255\n",
    "X_test = X_test.reshape(X_test.shape[0], 28, 28, 1).astype('float32') / 255"
   ]
  },
  {
   "cell_type": "code",
   "execution_count": 18,
   "id": "cb88ee61-2080-474c-95c5-ea69f77cbd99",
   "metadata": {},
   "outputs": [],
   "source": [
    "X_train, X_val, y_train, y_val = train_test_split(X_train, y_train, test_size=0.2, random_state=42)\n"
   ]
  },
  {
   "cell_type": "code",
   "execution_count": 20,
   "id": "4a47f70e-7e17-4d7d-9631-0af9f6b0d03c",
   "metadata": {},
   "outputs": [],
   "source": [
    "def build_model(optimizer='adam', dropout_rate=0.0):\n",
    "    model = Sequential()\n",
    "    model.add(Conv2D(32, (3, 3), activation='relu', input_shape=(28, 28, 1)))\n",
    "    model.add(MaxPooling2D(pool_size=(2, 2)))\n",
    "    model.add(Conv2D(64, (3, 3), activation='relu'))\n",
    "    model.add(MaxPooling2D(pool_size=(2, 2)))\n",
    "    model.add(Flatten())\n",
    "    model.add(Dense(128, activation='relu'))\n",
    "    model.add(Dropout(dropout_rate))\n",
    "    model.add(Dense(10, activation='softmax'))\n",
    "\n",
    "    # Compile the model\n",
    "    model.compile(optimizer=optimizer, loss='sparse_categorical_crossentropy', metrics=['accuracy'])\n",
    "    return model\n"
   ]
  },
  {
   "cell_type": "code",
   "execution_count": 32,
   "id": "8c720d08-4c4a-4a69-8b89-10d522b782e1",
   "metadata": {},
   "outputs": [],
   "source": [
    "def train_with_params(optimizer_type, dropout_rate, epochs, batch_size):\n",
    "    # Create a new optimizer instance for each training\n",
    "    if optimizer_type == 'adam':\n",
    "        optimizer = Adam(learning_rate=0.001)\n",
    "    elif optimizer_type == 'sgd':\n",
    "        optimizer = SGD(learning_rate=0.01)\n",
    "    model = build_model(optimizer, dropout_rate)\n",
    "    model.fit(X_train, y_train, epochs=epochs, batch_size=batch_size, validation_data=(X_val, y_val), verbose=0)\n",
    "    val_loss, val_acc = model.evaluate(X_val, y_val, verbose=0)\n",
    "    print(f\"Optimizer: {optimizer_type}, Dropout: {dropout_rate}, Epochs: {epochs}, Batch Size: {batch_size}, Validation Accuracy: {val_acc}\")\n",
    "    return val_acc"
   ]
  },
  {
   "cell_type": "code",
   "execution_count": 34,
   "id": "18f1f988-c29e-4945-b26c-40c53d7b23d0",
   "metadata": {},
   "outputs": [],
   "source": [
    "optimizers = ['adam', 'sgd']\n",
    "dropout_rates = [0.0, 0.2, 0.4]\n",
    "epochs_list = [10, 20]\n",
    "batch_sizes = [32, 64]"
   ]
  },
  {
   "cell_type": "code",
   "execution_count": 36,
   "id": "f29fbf62-a310-45b4-b43a-6b665ebb9fbb",
   "metadata": {},
   "outputs": [
    {
     "name": "stdout",
     "output_type": "stream",
     "text": [
      "Optimizer: adam, Dropout: 0.0, Epochs: 10, Batch Size: 32, Validation Accuracy: 0.9167500138282776\n",
      "Optimizer: adam, Dropout: 0.0, Epochs: 10, Batch Size: 64, Validation Accuracy: 0.909500002861023\n",
      "Optimizer: adam, Dropout: 0.0, Epochs: 20, Batch Size: 32, Validation Accuracy: 0.906333327293396\n",
      "Optimizer: adam, Dropout: 0.2, Epochs: 10, Batch Size: 32, Validation Accuracy: 0.9080833196640015\n",
      "Optimizer: adam, Dropout: 0.2, Epochs: 10, Batch Size: 64, Validation Accuracy: 0.9114999771118164\n",
      "Optimizer: adam, Dropout: 0.2, Epochs: 20, Batch Size: 32, Validation Accuracy: 0.9104166626930237\n",
      "Optimizer: adam, Dropout: 0.2, Epochs: 20, Batch Size: 64, Validation Accuracy: 0.9160833358764648\n",
      "Optimizer: adam, Dropout: 0.4, Epochs: 10, Batch Size: 32, Validation Accuracy: 0.9117500185966492\n",
      "Optimizer: adam, Dropout: 0.4, Epochs: 10, Batch Size: 64, Validation Accuracy: 0.906333327293396\n",
      "Optimizer: adam, Dropout: 0.4, Epochs: 20, Batch Size: 32, Validation Accuracy: 0.9154999852180481\n",
      "Optimizer: adam, Dropout: 0.4, Epochs: 20, Batch Size: 64, Validation Accuracy: 0.9135833382606506\n",
      "Optimizer: sgd, Dropout: 0.0, Epochs: 10, Batch Size: 32, Validation Accuracy: 0.8809166550636292\n",
      "Optimizer: sgd, Dropout: 0.0, Epochs: 10, Batch Size: 64, Validation Accuracy: 0.8631666898727417\n",
      "Optimizer: sgd, Dropout: 0.0, Epochs: 20, Batch Size: 32, Validation Accuracy: 0.893833339214325\n",
      "Optimizer: sgd, Dropout: 0.0, Epochs: 20, Batch Size: 64, Validation Accuracy: 0.8823333382606506\n",
      "Optimizer: sgd, Dropout: 0.2, Epochs: 10, Batch Size: 32, Validation Accuracy: 0.8778333067893982\n",
      "Optimizer: sgd, Dropout: 0.2, Epochs: 10, Batch Size: 64, Validation Accuracy: 0.8550833463668823\n",
      "Optimizer: sgd, Dropout: 0.2, Epochs: 20, Batch Size: 32, Validation Accuracy: 0.8931666612625122\n",
      "Optimizer: sgd, Dropout: 0.2, Epochs: 20, Batch Size: 64, Validation Accuracy: 0.8788333535194397\n",
      "Optimizer: sgd, Dropout: 0.4, Epochs: 10, Batch Size: 32, Validation Accuracy: 0.8684999942779541\n",
      "Optimizer: sgd, Dropout: 0.4, Epochs: 10, Batch Size: 64, Validation Accuracy: 0.8416666388511658\n",
      "Optimizer: sgd, Dropout: 0.4, Epochs: 20, Batch Size: 32, Validation Accuracy: 0.8829166889190674\n",
      "Optimizer: sgd, Dropout: 0.4, Epochs: 20, Batch Size: 64, Validation Accuracy: 0.8706666827201843\n"
     ]
    }
   ],
   "source": [
    "best_acc = 0\n",
    "best_params = None\n",
    "for optimizer in optimizers:\n",
    "    for dropout_rate in dropout_rates:\n",
    "        for epochs in epochs_list:\n",
    "            for batch_size in batch_sizes:\n",
    "                val_acc = train_with_params(optimizer, dropout_rate, epochs, batch_size)\n",
    "                if val_acc > best_acc:\n",
    "                    best_acc = val_acc\n",
    "                    best_params = (optimizer, dropout_rate, epochs, batch_size)"
   ]
  },
  {
   "cell_type": "code",
   "execution_count": 38,
   "id": "03a3f5e8-ff80-4f78-816f-1dc0c17e721b",
   "metadata": {},
   "outputs": [
    {
     "name": "stdout",
     "output_type": "stream",
     "text": [
      "Epoch 1/10\n",
      "\u001b[1m1500/1500\u001b[0m \u001b[32m━━━━━━━━━━━━━━━━━━━━\u001b[0m\u001b[37m\u001b[0m \u001b[1m27s\u001b[0m 16ms/step - accuracy: 0.7487 - loss: 0.6975 - val_accuracy: 0.8704 - val_loss: 0.3627\n",
      "Epoch 2/10\n",
      "\u001b[1m1500/1500\u001b[0m \u001b[32m━━━━━━━━━━━━━━━━━━━━\u001b[0m\u001b[37m\u001b[0m \u001b[1m39s\u001b[0m 15ms/step - accuracy: 0.8786 - loss: 0.3365 - val_accuracy: 0.8806 - val_loss: 0.3169\n",
      "Epoch 3/10\n",
      "\u001b[1m1500/1500\u001b[0m \u001b[32m━━━━━━━━━━━━━━━━━━━━\u001b[0m\u001b[37m\u001b[0m \u001b[1m41s\u001b[0m 15ms/step - accuracy: 0.8980 - loss: 0.2782 - val_accuracy: 0.8888 - val_loss: 0.3048\n",
      "Epoch 4/10\n",
      "\u001b[1m1500/1500\u001b[0m \u001b[32m━━━━━━━━━━━━━━━━━━━━\u001b[0m\u001b[37m\u001b[0m \u001b[1m23s\u001b[0m 15ms/step - accuracy: 0.9114 - loss: 0.2391 - val_accuracy: 0.9006 - val_loss: 0.2684\n",
      "Epoch 5/10\n",
      "\u001b[1m1500/1500\u001b[0m \u001b[32m━━━━━━━━━━━━━━━━━━━━\u001b[0m\u001b[37m\u001b[0m \u001b[1m25s\u001b[0m 16ms/step - accuracy: 0.9186 - loss: 0.2162 - val_accuracy: 0.9002 - val_loss: 0.2590\n",
      "Epoch 6/10\n",
      "\u001b[1m1500/1500\u001b[0m \u001b[32m━━━━━━━━━━━━━━━━━━━━\u001b[0m\u001b[37m\u001b[0m \u001b[1m39s\u001b[0m 15ms/step - accuracy: 0.9287 - loss: 0.1868 - val_accuracy: 0.9080 - val_loss: 0.2543\n",
      "Epoch 7/10\n",
      "\u001b[1m1500/1500\u001b[0m \u001b[32m━━━━━━━━━━━━━━━━━━━━\u001b[0m\u001b[37m\u001b[0m \u001b[1m42s\u001b[0m 16ms/step - accuracy: 0.9363 - loss: 0.1690 - val_accuracy: 0.9071 - val_loss: 0.2696\n",
      "Epoch 8/10\n",
      "\u001b[1m1500/1500\u001b[0m \u001b[32m━━━━━━━━━━━━━━━━━━━━\u001b[0m\u001b[37m\u001b[0m \u001b[1m40s\u001b[0m 15ms/step - accuracy: 0.9445 - loss: 0.1461 - val_accuracy: 0.9099 - val_loss: 0.2541\n",
      "Epoch 9/10\n",
      "\u001b[1m1500/1500\u001b[0m \u001b[32m━━━━━━━━━━━━━━━━━━━━\u001b[0m\u001b[37m\u001b[0m \u001b[1m31s\u001b[0m 20ms/step - accuracy: 0.9531 - loss: 0.1271 - val_accuracy: 0.9112 - val_loss: 0.2636\n",
      "Epoch 10/10\n",
      "\u001b[1m1500/1500\u001b[0m \u001b[32m━━━━━━━━━━━━━━━━━━━━\u001b[0m\u001b[37m\u001b[0m \u001b[1m34s\u001b[0m 15ms/step - accuracy: 0.9562 - loss: 0.1134 - val_accuracy: 0.9075 - val_loss: 0.2827\n"
     ]
    },
    {
     "data": {
      "text/plain": [
       "<keras.src.callbacks.history.History at 0x18ede3f9040>"
      ]
     },
     "execution_count": 38,
     "metadata": {},
     "output_type": "execute_result"
    }
   ],
   "source": [
    "optimizer, dropout_rate, epochs, batch_size = best_params\n",
    "final_model = build_model(optimizer, dropout_rate)\n",
    "final_model.fit(X_train, y_train, epochs=epochs, batch_size=batch_size, validation_data=(X_val, y_val))\n"
   ]
  },
  {
   "cell_type": "code",
   "execution_count": 40,
   "id": "67bce2df-15af-405d-b311-c46cdba62625",
   "metadata": {},
   "outputs": [
    {
     "name": "stdout",
     "output_type": "stream",
     "text": [
      "\u001b[1m313/313\u001b[0m \u001b[32m━━━━━━━━━━━━━━━━━━━━\u001b[0m\u001b[37m\u001b[0m \u001b[1m3s\u001b[0m 7ms/step - accuracy: 0.9092 - loss: 0.3156\n",
      "Test Accuracy: 0.9089000225067139\n"
     ]
    }
   ],
   "source": [
    "test_loss, test_acc = final_model.evaluate(X_test, y_test)\n",
    "print(f\"Test Accuracy: {test_acc}\")"
   ]
  },
  {
   "cell_type": "code",
   "execution_count": null,
   "id": "fee61cb3-3708-4a3b-8da2-230f0ac5651e",
   "metadata": {},
   "outputs": [],
   "source": []
  }
 ],
 "metadata": {
  "kernelspec": {
   "display_name": "Python 3 (ipykernel)",
   "language": "python",
   "name": "python3"
  },
  "language_info": {
   "codemirror_mode": {
    "name": "ipython",
    "version": 3
   },
   "file_extension": ".py",
   "mimetype": "text/x-python",
   "name": "python",
   "nbconvert_exporter": "python",
   "pygments_lexer": "ipython3",
   "version": "3.12.3"
  }
 },
 "nbformat": 4,
 "nbformat_minor": 5
}
